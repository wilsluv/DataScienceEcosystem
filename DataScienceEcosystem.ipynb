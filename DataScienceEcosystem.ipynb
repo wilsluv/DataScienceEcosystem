{
 "cells": [
  {
   "cell_type": "markdown",
   "id": "5d7cd4db-cbbb-4aa5-ab4c-46b86788d445",
   "metadata": {},
   "source": [
    "In this notebook, Data Science Tools and Ecosystem are summarized."
   ]
  },
  {
   "cell_type": "markdown",
   "id": "72a21acd-140d-4403-83ba-15bdce030b87",
   "metadata": {},
   "source": [
    "# Data Science Tools and Ecosystem"
   ]
  },
  {
   "cell_type": "markdown",
   "id": "f622c81d-3401-4a8c-9d29-49fa4089ea7c",
   "metadata": {},
   "source": [
    "**Objectives:**"
   ]
  },
  {
   "cell_type": "markdown",
   "id": "b659124a-2b38-4373-843b-2c6dccecef4b",
   "metadata": {},
   "source": [
    "Some of the item covered in this course are as follows"
   ]
  },
  {
   "cell_type": "markdown",
   "id": "a8707324-2ca3-4eb7-8fca-480e016226ca",
   "metadata": {},
   "source": [
    "+ Categories of Data Science Tools\n",
    "+ Open Source Tools for Data Management\n",
    "+ Operating System Tools\n",
    "                     + Data Integrationj and Transformation Tools\n",
    "                         + Languages fof Data Science"
   ]
  },
  {
   "cell_type": "markdown",
   "id": "90c24d9e-5f65-4815-bcd8-2e0ce37cd3db",
   "metadata": {},
   "source": [
    "Some of the popular languages that Data Scientists use are:"
   ]
  },
  {
   "cell_type": "markdown",
   "id": "9c8935f5-2bb3-40a7-b090-8a86c7b92eed",
   "metadata": {},
   "source": [
    "* JavaScript"
   ]
  },
  {
   "cell_type": "markdown",
   "id": "b42dffbd-49e6-4fb7-8707-3026e509b6b9",
   "metadata": {},
   "source": [
    "* Python"
   ]
  },
  {
   "cell_type": "markdown",
   "id": "33b21e6b-a710-4b79-aaa7-e46d44fd5b68",
   "metadata": {},
   "source": [
    "* R"
   ]
  },
  {
   "cell_type": "markdown",
   "id": "be5e4cef-32ad-4f52-8f9d-fcd775698715",
   "metadata": {},
   "source": [
    "* C++"
   ]
  },
  {
   "cell_type": "markdown",
   "id": "0aeac075-7949-47dc-aa6a-44d97f3c1024",
   "metadata": {},
   "source": [
    "* SQL"
   ]
  },
  {
   "cell_type": "markdown",
   "id": "9dc03ef6-124b-4295-8cf1-dcc9919470eb",
   "metadata": {},
   "source": [
    "* Java"
   ]
  },
  {
   "cell_type": "markdown",
   "id": "9539effc-802c-44b0-a636-1d462402ee17",
   "metadata": {},
   "source": [
    "* C"
   ]
  },
  {
   "cell_type": "markdown",
   "id": "27cc37ee-b1f4-453c-9ab8-96af81a4ee70",
   "metadata": {},
   "source": [
    "Some of the commonly used libraries used by Data Scientists include:"
   ]
  },
  {
   "cell_type": "markdown",
   "id": "8cb8c5fa-787c-451b-9bca-85299aa170fc",
   "metadata": {},
   "source": [
    "- TensorFlow"
   ]
  },
  {
   "cell_type": "markdown",
   "id": "667bfcf9-55d7-4168-ac6c-ebfb98463ea8",
   "metadata": {},
   "source": [
    "- Pandas"
   ]
  },
  {
   "cell_type": "markdown",
   "id": "8c8297c9-dfa2-4a5c-bd51-4b330a8ec9c2",
   "metadata": {},
   "source": [
    "- scikit-Learn"
   ]
  },
  {
   "cell_type": "markdown",
   "id": "6dd721d9-6072-4773-ac8e-f1563ee79bac",
   "metadata": {},
   "source": [
    "- Seaborn"
   ]
  },
  {
   "cell_type": "markdown",
   "id": "d9888290-a23a-41cf-9d54-448a012fef81",
   "metadata": {},
   "source": [
    "* Meatplotlib"
   ]
  },
  {
   "cell_type": "markdown",
   "id": "13b953c8-1515-4df7-823c-72af90505336",
   "metadata": {},
   "source": [
    "\n",
    "\n",
    "| S/N | Data Science Tools |\n",
    "| -------------| ------ |\n",
    "| 1 | Jupyter Notebooks |\n",
    "| 2 | R Studio |\n",
    "| 3 | ggplot2 |\n",
    "| 4 | Hadoop |"
   ]
  },
  {
   "cell_type": "markdown",
   "id": "cbaf4ba2-a4c0-497a-9726-4c6d9d02c3a7",
   "metadata": {},
   "source": [
    "### Below are a few examples of evaluating arithmetic expressions in Python"
   ]
  },
  {
   "cell_type": "markdown",
   "id": "ff6055b2-3a1b-4be8-a3af-334574d115a8",
   "metadata": {},
   "source": [
    "This a simple arithmetic expression to mutiply then add integers"
   ]
  },
  {
   "cell_type": "code",
   "execution_count": 19,
   "id": "35d1e75a-9b43-4585-a2f7-c85a8f9a5169",
   "metadata": {},
   "outputs": [],
   "source": [
    "result = (3*4) + 5"
   ]
  },
  {
   "cell_type": "code",
   "execution_count": 17,
   "id": "68158364-a9c4-4f68-9917-eeb4370b3758",
   "metadata": {},
   "outputs": [
    {
     "name": "stdout",
     "output_type": "stream",
     "text": [
      "17\n"
     ]
    }
   ],
   "source": [
    "print(result)"
   ]
  },
  {
   "cell_type": "markdown",
   "id": "72b8f717-a040-4566-9479-c8029743e301",
   "metadata": {},
   "source": [
    "This will convert 200 minutes to hours by diving by 60"
   ]
  },
  {
   "cell_type": "code",
   "execution_count": 27,
   "id": "c589435a-1a9f-45b4-a0c8-20b036fedc95",
   "metadata": {},
   "outputs": [
    {
     "name": "stdout",
     "output_type": "stream",
     "text": [
      "3.3333333333333335\n"
     ]
    }
   ],
   "source": [
    "minutes = 200\n",
    "hours = minutes / 60\n",
    "print(hours)"
   ]
  },
  {
   "cell_type": "markdown",
   "id": "233555b0-a5af-4e7a-b68a-ca3e5500e5e1",
   "metadata": {},
   "source": [
    "## Author"
   ]
  },
  {
   "cell_type": "markdown",
   "id": "67ea510f-0424-4c7a-92cf-f4e3f3a8bfbf",
   "metadata": {},
   "source": [
    "Dr. Ndifreke Williams"
   ]
  }
 ],
 "metadata": {
  "kernelspec": {
   "display_name": "Python 3 (ipykernel)",
   "language": "python",
   "name": "python3"
  },
  "language_info": {
   "codemirror_mode": {
    "name": "ipython",
    "version": 3
   },
   "file_extension": ".py",
   "mimetype": "text/x-python",
   "name": "python",
   "nbconvert_exporter": "python",
   "pygments_lexer": "ipython3",
   "version": "3.11.7"
  }
 },
 "nbformat": 4,
 "nbformat_minor": 5
}
